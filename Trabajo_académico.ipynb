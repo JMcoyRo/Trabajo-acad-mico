{
  "nbformat": 4,
  "nbformat_minor": 0,
  "metadata": {
    "colab": {
      "provenance": [],
      "authorship_tag": "ABX9TyMcpVKjTsZLAmvWE2eMy6LE",
      "include_colab_link": true
    },
    "kernelspec": {
      "name": "python3",
      "display_name": "Python 3"
    },
    "language_info": {
      "name": "python"
    }
  },
  "cells": [
    {
      "cell_type": "markdown",
      "metadata": {
        "id": "view-in-github",
        "colab_type": "text"
      },
      "source": [
        "<a href=\"https://colab.research.google.com/github/JMcoyRo/Trabajo-acad-mico/blob/main/Trabajo_acad%C3%A9mico.ipynb\" target=\"_parent\"><img src=\"https://colab.research.google.com/assets/colab-badge.svg\" alt=\"Open In Colab\"/></a>"
      ]
    },
    {
      "cell_type": "markdown",
      "source": [
        "  # <center> **Maestría en Ciencia de datos** </center>\n",
        "![escudo.png](data:image/png;base64,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)\n",
        "\n",
        "## <center> **Limpieza y manipulación de datos** </center>\n",
        "\n",
        "## <center> House Prices - Advanced Regression Techniques Predict sales prices and practice feature engineering, RFs, and gradient boosting </center>\n",
        "\n",
        "## Integrantes\n",
        "\n",
        "\n",
        "\n",
        "*    Iván Velásquez Quintanilla\n",
        "\n",
        "*    Jackson Romero Plasencia\n",
        "\n",
        "*  Jeronimo Canahuiri Ayerbe\n",
        "\n",
        "\n"
      ],
      "metadata": {
        "id": "L5FendHf53hR"
      }
    },
    {
      "cell_type": "markdown",
      "source": [
        "### Índice\n",
        ">\n",
        "* [Resumen](#resumen)\n",
        "     * [Objetivos](#obje)\n",
        "     * [Palabras clave](#clave)\n",
        "     \n",
        "     \n",
        "* [Abstract](#abstract)\n",
        "   * [Key words](#key)\n",
        "   \n",
        "* [Introducción](#intro)\n",
        "* [Metodología](#meto)\n",
        "* [Resultados](#resul)\n",
        "* [Discusión](#discu)\n",
        "\n",
        "* [Contribuciones de los autores](#con)\n",
        "    indicar la contribución de cada autor.\n",
        "* [Fuentes de financiamiento](#fin)\n",
        "     autofinanciado.\n",
        "* [Conflictos de interés](#conf)\n",
        "  los autores declaran no tener conflictos de interés en la publicación del artículo.\n",
        " * [Agradecimientos](#agra)\n",
        " indicar los principales.\n"
      ],
      "metadata": {
        "id": "CaKAq_5W--qt"
      }
    },
    {
      "cell_type": "markdown",
      "source": [
        "### **Resumen**"
      ],
      "metadata": {
        "id": "dS0OlDiSBRK0"
      }
    },
    {
      "cell_type": "markdown",
      "source": [
        "[Índice](#Índice)"
      ],
      "metadata": {
        "id": "ob8aGWglBVS9"
      }
    },
    {
      "cell_type": "markdown",
      "source": [
        "\n",
        "<p style=\"text-align: justify;\"> En una de las competencias realizadas en [Kaggle](https://www.kaggle.com/code/gusthema/house-prices-prediction-using-tfdf) sobre la predicción  de precios de  vivienda, haciendo uso de  técnicas avanzadas de regresión.  <p>\n",
        "&nbsp;\n",
        "  <p style=\"text-align: justify;\"> Se solicita a un comprador que describa la casa de sus sueños y probablemente no comenzará con la altura del techo del sótano o la proximidad a una vía de ferrocarril de este a oeste. Pero el conjunto de datos de esta competición de parques infantiles demuestra que en las negociaciones de precios influye mucho más que el número de dormitorios o una valla blanca.  <p>\n",
        "&nbsp;\n",
        " <p style=\"text-align: justify;\"> La base de datos consta 79 variables explicativas que describen (casi) todos los aspectos de las viviendas residenciales en Ames, Iowa, esta competencia lo desafía a predecir el precio final de cada vivienda.  <p>\n",
        "&nbsp;\n",
        " <p style=\"text-align: justify;\"> El conjunto de datos de Ames Housing  fue compilado por Dean De Cock para su uso en la educación en ciencia de datos. Es una alternativa increíble para los científicos de datos que buscan una versión modernizada y ampliada del conjunto de datos de Boston Housing, frecuentemente citado.  <p>\n",
        "&nbsp;\n",
        "\n",
        " <p style=\"text-align: justify;\">Las estimaciones se evalúan según el error cuadrático medio (RMSE)  entre el logaritmo del valor previsto y el logaritmo del precio de venta observado. <p>\n",
        "\n",
        "\n"
      ],
      "metadata": {
        "id": "NoVfjM34CqsM"
      }
    },
    {
      "cell_type": "markdown",
      "source": [
        "### **Objetivos**"
      ],
      "metadata": {
        "id": "NYzNMD_TEfaM"
      }
    },
    {
      "cell_type": "markdown",
      "source": [
        "\n",
        "* <p style=\"text-align: justify;\"> Realizar imputación de datos perdidos  \n",
        "  <p>\n",
        "* <p style=\"text-align: justify;\">Predecir el precio de venta de cada casa <p>\n",
        "* <p style=\"text-align: justify;\"> Aplicar Técnicas de regresión avanzadas como Random Forest y Gradient Boosting\n",
        " <p>\n"
      ],
      "metadata": {
        "id": "h5cJglNTEvZu"
      }
    },
    {
      "cell_type": "markdown",
      "source": [
        "### **Palabras clave**"
      ],
      "metadata": {
        "id": "1V4jCJ0gEkvE"
      }
    },
    {
      "cell_type": "markdown",
      "source": [
        "#### Randon Forest, Gradient Boosting, imputación"
      ],
      "metadata": {
        "id": "yXmvAS98IMNN"
      }
    },
    {
      "cell_type": "markdown",
      "source": [
        "# **Abstract**"
      ],
      "metadata": {
        "id": "s8IG2rxTIquu"
      }
    },
    {
      "cell_type": "markdown",
      "source": [
        "<p style=\"text-align: justify;\">In one of the competitions held on [Kaggle](https://www.kaggle.com/code/gusthema/house-prices-prediction-using-tfdf) on house price prediction, using advanced regression techniques .<p>\n",
        "\n",
        "\n",
        "\n",
        "<p style=\"text-align: justify;\"> A buyer is asked to describe their dream home, and they probably won't start with the height of the basement ceiling or the proximity to an east-west railroad track. But the data set from this playground competition shows that much more influences price negotiations than the number of bedrooms or a white picket fence.<p>\n",
        "&nbsp;\n",
        "<p style=\"text-align: justify;\">The database consists of 79 explanatory variables that describe (almost) every aspect of residential housing in Ames, Iowa, this competition challenges you to predict the final price of each home.<p>\n",
        "&nbsp;\n",
        "<p style=\"text-align: justify;\">The Ames Housing dataset was compiled by Dean De Cock for use in data science education. It's an incredible alternative for data scientists looking for a modernized and expanded version of the oft-cited Boston Housing dataset.<p>\n",
        "&nbsp;\n",
        "<p style=\"text-align: justify;\"> Estimates are evaluated based on the root mean square error (RMSE) between the log of the predicted value and the log of the observed sales price.<p>"
      ],
      "metadata": {
        "id": "8D4Q3ZcWE1GU"
      }
    },
    {
      "cell_type": "markdown",
      "source": [
        "### **Keywords**"
      ],
      "metadata": {
        "id": "mR2yGjDqEwDz"
      }
    },
    {
      "cell_type": "markdown",
      "source": [
        "\n",
        "Randon Forest, Gradient Boosting, imputation"
      ],
      "metadata": {
        "id": "I8XtmzX1JfP2"
      }
    },
    {
      "cell_type": "markdown",
      "source": [
        "# **Introducción**"
      ],
      "metadata": {
        "id": "j44eANfPJfUl"
      }
    },
    {
      "cell_type": "markdown",
      "source": [
        "# **Metodología**"
      ],
      "metadata": {
        "id": "pF1svDvzJfX-"
      }
    },
    {
      "cell_type": "markdown",
      "source": [
        ">\n",
        "*"
      ],
      "metadata": {
        "id": "qm7s7qg1Jfep"
      }
    }
  ]
}